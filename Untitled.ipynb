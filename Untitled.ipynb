{
 "cells": [
  {
   "cell_type": "code",
   "execution_count": 48,
   "metadata": {
    "collapsed": true
   },
   "outputs": [],
   "source": [
    "import time\n",
    "start_time = time.time()"
   ]
  },
  {
   "cell_type": "markdown",
   "metadata": {},
   "source": [
    "Als eerste lezen wij de twee relevante files in een RDD en mappen wij deze naar een makkelijk bruikbare vorm."
   ]
  },
  {
   "cell_type": "code",
   "execution_count": 49,
   "metadata": {
    "collapsed": false
   },
   "outputs": [
    {
     "data": {
      "text/plain": [
       "[(11973, 11, 3.0, 943354625),\n",
       " (11973, 14, 4.0, 943353278),\n",
       " (11973, 32, 2.0, 943354739),\n",
       " (11973, 36, 3.0, 943354345),\n",
       " (11973, 110, 5.0, 943354384)]"
      ]
     },
     "execution_count": 49,
     "metadata": {},
     "output_type": "execute_result"
    }
   ],
   "source": [
    "ratings_train = sc.textFile(\"data/ratings_train.csv\")\n",
    "first = ratings_train.first()\n",
    "ratings_train = ratings_train.filter(lambda x: x != first).map(lambda x : x.split(\"::\")).map(lambda x: (int(x[0]), int(x[1]), float(x[2]), int(x[3])))\n",
    "ratings_train.take(5)\n",
    "\n"
   ]
  },
  {
   "cell_type": "code",
   "execution_count": 50,
   "metadata": {
    "collapsed": false
   },
   "outputs": [
    {
     "name": "stdout",
     "output_type": "stream",
     "text": [
      "[1, 3, 4, 5, 8]\n"
     ]
    }
   ],
   "source": [
    "ratings_test = sc.textFile(\"data/ratings_test.csv\")\n",
    "first = ratings_test.first()\n",
    "test_users = ratings_test.filter(lambda x: x != first).map(lambda x : x.split(\"::\")).map(lambda x: int(x[0])).collect()\n",
    "print(test_users[:5])"
   ]
  },
  {
   "cell_type": "markdown",
   "metadata": {},
   "source": [
    "Daarna kennen wij aan elke film, op basis van hun gemiddelde rating en hoe vaak ze gereviewed zijn, een \"populariteitswaarde toe\"."
   ]
  },
  {
   "cell_type": "code",
   "execution_count": 51,
   "metadata": {
    "collapsed": false
   },
   "outputs": [],
   "source": [
    "movie_ratings = ratings_train.map(lambda x: (x[1], x[2])).groupByKey()"
   ]
  },
  {
   "cell_type": "code",
   "execution_count": 52,
   "metadata": {
    "collapsed": false
   },
   "outputs": [],
   "source": [
    "good_movies_stats = movie_ratings.map(lambda x: (x[0], (sum(list(x[1]), 1)/len(list(x[1])), len(list(x[1])))))"
   ]
  },
  {
   "cell_type": "code",
   "execution_count": 53,
   "metadata": {
    "collapsed": false
   },
   "outputs": [],
   "source": [
    "top_movies = good_movies_stats.map(lambda x: (x[0], 0.6*x[1][0] + 0.4*x[1][1]))"
   ]
  },
  {
   "cell_type": "markdown",
   "metadata": {},
   "source": [
    "hier maken we een dictionairy van test users => lijst van films die ze hebben gezien. Deze kunnen we later gebruiken om de films die ze al hebben gezien uit de populaire films te filteren."
   ]
  },
  {
   "cell_type": "code",
   "execution_count": 54,
   "metadata": {
    "collapsed": true
   },
   "outputs": [],
   "source": [
    "user_seen_movies_lookup = ratings_train.map(lambda x: (x[0], x[1])).groupByKey().filter(lambda x: x[0] in test_users).map(lambda x: (x[0], list(x[1]))).collectAsMap()"
   ]
  },
  {
   "cell_type": "markdown",
   "metadata": {},
   "source": [
    "Door de 100 meeste populaire films te pakken wordt de kans dat een user alle top-films al gezien heeft klein genoeg voor deze dataset. Dit is niet heel robuust, maar met onze huidige kennis hebben wij hier geen betere, resource-zuinige oplossing voor kunnen bedenken."
   ]
  },
  {
   "cell_type": "code",
   "execution_count": 55,
   "metadata": {
    "collapsed": false
   },
   "outputs": [],
   "source": [
    "top100 = top_movies.takeOrdered(100, key=lambda x: -x[1])\n",
    "recoms = sc.parallelize(test_users).map(lambda x: (x, top100))\n",
    "recoms_flat = recoms.flatMapValues(lambda x: x)\n",
    "user_recoms = recoms_flat.map(lambda x: (x[0], x[1][0])).filter(lambda x: not(x[1] in list(user_seen_movies_lookup.get(x[0], []))))\n",
    "\n"
   ]
  },
  {
   "cell_type": "markdown",
   "metadata": {},
   "source": [
    "def recommend(seenList, nextMovie):\n",
    "    recomList = []\n",
    "    for movie in top100:\n",
    "        if movie not in seenList:\n",
    "            recomList.add(movie)\n",
    "            if len(recomList) == 10:\n",
    "                return 1 if nextMovie in recomList else 0\n",
    "        "
   ]
  },
  {
   "cell_type": "markdown",
   "metadata": {},
   "source": [
    "user_seen_movies_lookup.join()"
   ]
  },
  {
   "cell_type": "code",
   "execution_count": 56,
   "metadata": {
    "collapsed": false
   },
   "outputs": [],
   "source": [
    "user_recoms_lookup = user_recoms.groupByKey().map(lambda x: (x[0], list(x[1])[:10])).collectAsMap()"
   ]
  },
  {
   "cell_type": "markdown",
   "metadata": {},
   "source": [
    "Door een RDD te maken van alle test user ratings die voor komen in de aanbevelingslijst van de bijbehorende user, kunnen we het aantal True Positives berekenen. Door dit te delen door het totaal aantal test user ratings (wat hetzelfde is als de True Positives + False Negatives) krijgen we de recall. Recall is een evaluation metric die goed gebruikt kan worden bij zowel classificatie als ranking, waarvan deze opdracht een mengeling is."
   ]
  },
  {
   "cell_type": "code",
   "execution_count": 57,
   "metadata": {
    "collapsed": false
   },
   "outputs": [],
   "source": [
    "first = ratings_test.first()\n",
    "test_users_movies = ratings_test.filter(lambda x: x != first).map(lambda x : x.split(\"::\")).map(lambda x: (int(x[0]), int(x[1])))\n",
    "test_users_correct = test_users_movies.filter(lambda x: x[1] in list(user_recoms_lookup.get(x[0], [])))"
   ]
  },
  {
   "cell_type": "code",
   "execution_count": 58,
   "metadata": {
    "collapsed": false
   },
   "outputs": [],
   "source": [
    "end_time = time.time()"
   ]
  },
  {
   "cell_type": "code",
   "execution_count": 59,
   "metadata": {
    "collapsed": false
   },
   "outputs": [
    {
     "name": "stdout",
     "output_type": "stream",
     "text": [
      "True Positives: 3105\n",
      "Recall: 6.21%\n",
      "finished in 2 minutes and 30 seconds\n"
     ]
    }
   ],
   "source": [
    "correct = test_users_correct.count()\n",
    "total = test_users_movies.count()\n",
    "    \n",
    "print(\"True Positives: {}\".format(correct))\n",
    "\n",
    "print(\"Recall: {}%\".format((float(correct)/float(total))*100))\n",
    "\n",
    "print(\"finished in {} minutes and {} seconds\".format( int((end_time - start_time)/60), int(end_time - start_time)%60))"
   ]
  },
  {
   "cell_type": "markdown",
   "metadata": {},
   "source": [
    "================================================================================================================================"
   ]
  },
  {
   "cell_type": "markdown",
   "metadata": {
    "collapsed": false
   },
   "source": [
    "test_user_ratings = ratings_train.filter(lambda x: x[2] > 3).filter(lambda x: x[0] in test_users).map(lambda x: (x[1], x[0]))\n",
    "\n",
    "other_user_ratings = ratings_train.filter(lambda x: x[2] > 3).filter(lambda x: not(x[0] in test_users)).map(lambda x: (x[1], x[0]))\n",
    "\n",
    "test_user_ratings.take(5)"
   ]
  },
  {
   "cell_type": "markdown",
   "metadata": {
    "collapsed": true
   },
   "source": [
    "users_match = test_user_ratings.join(other_user_ratings).take(5)"
   ]
  },
  {
   "cell_type": "code",
   "execution_count": null,
   "metadata": {
    "collapsed": true
   },
   "outputs": [],
   "source": []
  }
 ],
 "metadata": {
  "kernelspec": {
   "display_name": "Python 3",
   "language": "python",
   "name": "python3"
  },
  "language_info": {
   "codemirror_mode": {
    "name": "ipython",
    "version": 3
   },
   "file_extension": ".py",
   "mimetype": "text/x-python",
   "name": "python",
   "nbconvert_exporter": "python",
   "pygments_lexer": "ipython3",
   "version": "3.5.2"
  }
 },
 "nbformat": 4,
 "nbformat_minor": 2
}
