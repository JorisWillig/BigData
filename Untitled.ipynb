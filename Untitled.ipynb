{
 "cells": [
  {
   "cell_type": "markdown",
   "metadata": {},
   "source": [
    "Als eerste maken wij twee lookup tables, één met daarin de users en een lijst van alle films die zij hebben beoordeeld en één met alle films en een lisjt van alle users die die film hebben beoordeeld."
   ]
  },
  {
   "cell_type": "code",
   "execution_count": 123,
   "metadata": {
    "collapsed": false
   },
   "outputs": [],
   "source": [
    "ratings_train = sc.textFile(\"data/ratings_train.csv\")\n",
    "first = ratings_train.first()\n",
    "ratings_train = ratings_train.filter(lambda x: x != first).map(lambda x : x.split(\"::\")).map(lambda x: (int(x[0]), int(x[1]), float(x[2]), int(x[3]))).filter(lambda x: x[2] > 3)"
   ]
  },
  {
   "cell_type": "code",
   "execution_count": 124,
   "metadata": {
    "collapsed": false
   },
   "outputs": [],
   "source": [
    "movie_ratings = ratings_train.map(lambda x: (x[1], x[2])).groupByKey()"
   ]
  },
  {
   "cell_type": "code",
   "execution_count": 125,
   "metadata": {
    "collapsed": false
   },
   "outputs": [],
   "source": [
    "good_movies_stats = movie_ratings.map(lambda x: (x[0], (sum(list(x[1]))/len(list(x[1])), len(list(x[1])), ))).filter(lambda x: x[1][1] > 4)"
   ]
  },
  {
   "cell_type": "code",
   "execution_count": 126,
   "metadata": {
    "collapsed": false
   },
   "outputs": [],
   "source": [
    "top_movies = good_movies_stats.map(lambda x: (x[0], x[1][0] * x[1][1]))"
   ]
  },
  {
   "cell_type": "code",
   "execution_count": 127,
   "metadata": {
    "collapsed": true
   },
   "outputs": [],
   "source": [
    "user_movies_lookup = ratings_train.map(lambda x: (x[0], x[1])).groupByKey()\n"
   ]
  },
  {
   "cell_type": "code",
   "execution_count": 128,
   "metadata": {
    "collapsed": false
   },
   "outputs": [],
   "source": [
    "ratings_test = sc.textFile(\"data/ratings_test.csv\")\n",
    "first = ratings_test.first()\n",
    "test_users = ratings_test.filter(lambda x: x != first).map(lambda x : x.split(\"::\")).map(lambda x: int(x[0])).collect()"
   ]
  },
  {
   "cell_type": "code",
   "execution_count": 129,
   "metadata": {
    "collapsed": false
   },
   "outputs": [],
   "source": [
    "user_seen_movies = user_movies_lookup.filter(lambda x: x[0] in test_users)"
   ]
  },
  {
   "cell_type": "code",
   "execution_count": 130,
   "metadata": {
    "collapsed": false
   },
   "outputs": [],
   "source": [
    "#user_seen_movies.count()"
   ]
  },
  {
   "cell_type": "code",
   "execution_count": 131,
   "metadata": {
    "collapsed": true
   },
   "outputs": [],
   "source": [
    "user_seen_movies_lookup = user_seen_movies.map(lambda x: (x[0], list(x[1]))).collectAsMap()"
   ]
  },
  {
   "cell_type": "code",
   "execution_count": 132,
   "metadata": {
    "collapsed": false
   },
   "outputs": [],
   "source": [
    "top50 = top_movies.takeOrdered(100, key=lambda x: -x[1])\n",
    "recoms = sc.parallelize(test_users).map(lambda x: (x, top50))\n",
    "recoms_flat = recoms.flatMapValues(lambda x: x)\n",
    "user_recoms = recoms_flat.map(lambda x: (x[0], x[1][0])).filter(lambda x: not(x[1] in list(user_seen_movies_lookup.get(x[0], []))))"
   ]
  },
  {
   "cell_type": "code",
   "execution_count": 133,
   "metadata": {
    "collapsed": false
   },
   "outputs": [],
   "source": [
    "user_recoms_lookup = user_recoms.groupByKey().map(lambda x: (x[0], list(x[1])[:10])).collectAsMap()"
   ]
  },
  {
   "cell_type": "code",
   "execution_count": 134,
   "metadata": {
    "collapsed": false
   },
   "outputs": [],
   "source": [
    "first = ratings_test.first()\n",
    "test_users_movies = ratings_test.filter(lambda x: x != first).map(lambda x : x.split(\"::\")).map(lambda x: (int(x[0]), int(x[1])))\n",
    "test_users_correct = test_users_movies.filter(lambda x: x[1] in list(user_recoms_lookup.get(x[0], [])))"
   ]
  },
  {
   "cell_type": "code",
   "execution_count": 135,
   "metadata": {
    "collapsed": false
   },
   "outputs": [
    {
     "name": "stdout",
     "output_type": "stream",
     "text": [
      "2803\n",
      "50000\n",
      "0.05606\n"
     ]
    }
   ],
   "source": [
    "recal = test_users_correct.count()\n",
    "total = test_users_movies.count()\n",
    "\n",
    "print(recal)\n",
    "print(total)\n",
    "\n",
    "print(float(recal)/float(total))"
   ]
  },
  {
   "cell_type": "code",
   "execution_count": null,
   "metadata": {
    "collapsed": true
   },
   "outputs": [],
   "source": []
  }
 ],
 "metadata": {
  "kernelspec": {
   "display_name": "Python 3",
   "language": "python",
   "name": "python3"
  },
  "language_info": {
   "codemirror_mode": {
    "name": "ipython",
    "version": 3
   },
   "file_extension": ".py",
   "mimetype": "text/x-python",
   "name": "python",
   "nbconvert_exporter": "python",
   "pygments_lexer": "ipython3",
   "version": "3.5.2"
  }
 },
 "nbformat": 4,
 "nbformat_minor": 2
}
